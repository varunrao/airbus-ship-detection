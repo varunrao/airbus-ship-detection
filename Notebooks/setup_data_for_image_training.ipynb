{
 "cells": [
  {
   "cell_type": "markdown",
   "metadata": {},
   "source": [
    "#### Using tools/im2rec.py\n",
    "You can also convert raw images into *RecordIO* format using the [__im2rec.py__](https://github.com/apache/incubator-mxnet/blob/master/tools/im2rec.py) utility script that is provided in the MXNet [src/tools](https://github.com/dmlc/mxnet/tree/master/tools) folder.\n",
    "An example of how to use the script for converting to *RecordIO* format is shown in the `Image IO` section below.\n",
    "\n",
    "* Note that there is a C++ API implementation of [im2rec](https://github.com/dmlc/mxnet/blob/master/tools/im2rec.cc), please refer to [RecordIO FAQ](https://mxnet.incubator.apache.org/faq/recordio.html) for more information.\n",
    "\n",
    "## Image IO\n",
    "\n",
    "In this section, we will learn how to preprocess and load image data in MXNet.\n",
    "\n",
    "There are 4 ways of loading image data in MXNet.\n",
    "   1. Using [__mx.image.imdecode__](http://mxnet.io/api/python/io/io.html#mxnet.image.imdecode) to load raw image files.\n",
    "   2. Using [__`mx.img.ImageIter`__](http://mxnet.io/api/python/io/io.html#mxnet.image.ImageIter) implemented in Python which is very flexible to customization. It can read from .rec(`RecordIO`) files and raw image files.\n",
    "   3. Using [__`mx.io.ImageRecordIter`__](http://mxnet.io/api/python/io/io.html#mxnet.io.ImageRecordIter) implemented on the MXNet backend in C++. This is less flexible to customization but provides various language bindings.\n",
    "   4. Creating a Custom iterator inheriting `mx.io.DataIter`\n",
    "\n",
    "\n",
    "### Preprocessing Images\n",
    "Images can be preprocessed in different ways. We list some of them below:\n",
    "- Using `mx.io.ImageRecordIter` which is fast but not very flexible. It is great for simple tasks like image recognition but won't work for more complex tasks like detection and segmentation.\n",
    "- Using `mx.recordio.unpack_img` (or `cv2.imread`, `skimage`, etc) + `numpy` is flexible but slow due to Python Global Interpreter Lock (GIL).\n",
    "- Using MXNet provided `mx.image` package. It stores images in [__`NDArray`__](http://mxnet.io/tutorials/basic/ndarray.html) format and leverages MXNet's [dependency engine](http://mxnet.io/architecture/note_engine.html) to automatically parallelize processing and circumvent GIL.\n",
    "\n",
    "Below, we demonstrate some of the frequently used preprocessing routines provided by the `mx.image` package.\n",
    "\n",
    "Let's download sample images that we can work with."
   ]
  },
  {
   "cell_type": "code",
   "execution_count": 1,
   "metadata": {},
   "outputs": [],
   "source": [
    "import mxnet as mx\n",
    "%matplotlib inline\n",
    "import os\n",
    "import sys\n",
    "import subprocess\n",
    "import numpy as np\n",
    "import matplotlib.pyplot as plt\n",
    "import tarfile\n",
    "import boto3\n",
    "import botocore\n",
    "\n",
    "import warnings\n",
    "warnings.filterwarnings(\"ignore\", category=DeprecationWarning)"
   ]
  },
  {
   "cell_type": "markdown",
   "metadata": {},
   "source": [
    "### Loading Data using Image Iterators\n",
    "\n",
    "Before we see how to read data using the two built-in Image iterators,\n",
    " lets get a sample __Caltech 101__ dataset\n",
    " that contains 101 classes of objects and converts them into record io format.\n",
    "Download and unzip"
   ]
  },
  {
   "cell_type": "code",
   "execution_count": 2,
   "metadata": {},
   "outputs": [],
   "source": [
    "BUCKET_NAME = 'reinvent2018-builder-fair-recycle-arm-us-east-1'\n",
    "dataset = 'imagenet_trashnet'\n",
    "project = 'imagenet_trashnet'\n",
    "KEY = 'data/{}/dataset-original.zip'.format(dataset)\n",
    "\n",
    "s3 = boto3.resource('s3')\n",
    "# my_bucket = s3.Bucket(BUCKET_NAME)\n",
    "# for object in my_bucket.objects.all():\n",
    "#     print(object)\n",
    "try:\n",
    "    s3.Bucket(BUCKET_NAME).download_file(KEY, '/tmp/data/dataset-original.zip')\n",
    "except botocore.exceptions.ClientError as e:\n",
    "    if e.response['Error']['Code'] == \"404\":\n",
    "        print(\"The object does not exist.\")\n",
    "    else:\n",
    "        raise"
   ]
  },
  {
   "cell_type": "code",
   "execution_count": 3,
   "metadata": {},
   "outputs": [],
   "source": [
    "#fname = mx.test_utils.download(url='http://www.vision.caltech.edu/Image_Datasets/Caltech101/101_ObjectCategories.tar.gz', dirname='/tmp/data', overwrite=True)\n",
    "fname = \"/tmp/data/dataset-original.zip\"\n",
    "\n",
    "#tar = tarfile.open(fname)\n",
    "#tar.extractall(path=os.path.join('/tmp','data'))\n",
    "#tar.close()\n",
    "\n",
    "import zipfile\n",
    "zip_ref = zipfile.ZipFile(fname, 'r')\n",
    "zip_ref.extractall(path=os.path.join('/tmp/data','dataset-original'))\n",
    "zip_ref.close()"
   ]
  },
  {
   "cell_type": "markdown",
   "metadata": {},
   "source": [
    "Let's take a look at the data. As you can see, under the root folder (./data/101_ObjectCategories) every category has a subfolder(./data/101_ObjectCategories/yin_yang).\n",
    "\n",
    "Now let's convert them into record io format using the `im2rec.py` utility script.\n",
    "First, we need to make a list that contains all the image files and their categories:"
   ]
  },
  {
   "cell_type": "code",
   "execution_count": 4,
   "metadata": {},
   "outputs": [],
   "source": [
    "#im2rec_path = mx.test_utils.get_im2rec_path()\n",
    "im2rec_path = \"/home/ec2-user/anaconda3/envs/mxnet_p36/lib/python3.6/site-packages/mxnet/tools/im2rec.py\"\n",
    "data_path = os.path.join('/tmp/data','dataset-original')\n",
    "prefix_path = os.path.join('/tmp/data','trashnet')\n",
    "\n",
    "with open(os.devnull, 'wb') as devnull:\n",
    "    subprocess.check_call(['python', im2rec_path, '--list', '--recursive', prefix_path, data_path],\n",
    "                          stdout=devnull)"
   ]
  },
  {
   "cell_type": "markdown",
   "metadata": {},
   "source": [
    "The resulting list file (./data/caltech_train.lst) is in the format `index\\t(one or more label)\\tpath`. In this case, there is only one label for each image but you can modify the list to add in more for multi-label training.\n",
    "\n",
    "Then we can use this list to create our record io file:"
   ]
  },
  {
   "cell_type": "code",
   "execution_count": 5,
   "metadata": {},
   "outputs": [],
   "source": [
    "with open(os.devnull, 'wb') as devnull:\n",
    "    subprocess.check_call(['python', im2rec_path, '--num-thread=4', '--quality=100', '--resize=480', prefix_path, data_path],\n",
    "                          stdout=devnull)"
   ]
  },
  {
   "cell_type": "code",
   "execution_count": 6,
   "metadata": {},
   "outputs": [],
   "source": [
    "import boto3\n",
    "BUCKET_NAME = 'deeplens-image-classification-varunrao'\n",
    "KEY1 = '{}/train'.format(project)\n",
    "KEY2 = '{}/validation'.format(project)\n",
    "\n",
    "s3 = boto3.resource('s3')\n",
    "\n",
    "try:\n",
    "    s3.Bucket(BUCKET_NAME).upload_file('/tmp/data/trashnet.rec', KEY1 + \"/trashnet.rec\")\n",
    "    s3.Bucket(BUCKET_NAME).upload_file('/tmp/data/trashnet.rec', KEY2 + \"/trashnet.rec\")\n",
    "except botocore.exceptions.ClientError as e:\n",
    "    if e.response['Error']['Code'] == \"404\":\n",
    "        print(\"The object does not exist.\")\n",
    "    else:\n",
    "        raise"
   ]
  },
  {
   "cell_type": "markdown",
   "metadata": {},
   "source": [
    "The record io files are now saved at here (./data)\n",
    "\n",
    "#### Using ImageRecordIter\n",
    "[__`ImageRecordIter`__](http://mxnet.io/api/python/io/io.html#mxnet.io.ImageRecordIter) can be used for loading image data saved in record io format. To use ImageRecordIter, simply create an instance by loading your record file:"
   ]
  },
  {
   "cell_type": "code",
   "execution_count": null,
   "metadata": {},
   "outputs": [],
   "source": [
    "data_iter = mx.io.ImageRecordIter(\n",
    "    path_imgrec=os.path.join('/tmp','data','trashnet.rec'),\n",
    "    data_shape=(3, 500, 500), # output data shape. An 227x227 region will be cropped from the original image.\n",
    "    batch_size=4, # number of samples per batch\n",
    "    resize=256 # resize the shorter edge to 256 before cropping\n",
    "    # ... you can add more augmentation options as defined in ImageRecordIter.\n",
    "    )\n",
    "data_iter.reset()\n",
    "batch = data_iter.next()\n",
    "data = batch.data[0]\n",
    "for i in range(4):\n",
    "    plt.subplot(1,4,i+1)\n",
    "    plt.imshow(data[i].asnumpy().astype(np.uint8).transpose((1,2,0)))\n",
    "plt.show()"
   ]
  },
  {
   "cell_type": "markdown",
   "metadata": {},
   "source": [
    "#### Using ImageIter\n",
    "[__ImageIter__](http://mxnet.io/api/python/io/io.html#mxnet.io.ImageIter) is a flexible interface that supports loading of images in both RecordIO and Raw format."
   ]
  },
  {
   "cell_type": "code",
   "execution_count": null,
   "metadata": {},
   "outputs": [],
   "source": [
    "data_iter = mx.image.ImageIter(batch_size=4, data_shape=(3, 227, 227),\n",
    "                              path_imgrec=os.path.join('/tmp','data','trashnet.rec'),\n",
    "                              path_imgidx=os.path.join('/tmp','data','trashnet.idx') )\n",
    "data_iter.reset()\n",
    "batch = data_iter.next()\n",
    "data = batch.data[0]\n",
    "for i in range(4):\n",
    "    plt.subplot(1,4,i+1)\n",
    "    plt.imshow(data[i].asnumpy().astype(np.uint8).transpose((1,2,0)))\n",
    "plt.show()"
   ]
  },
  {
   "cell_type": "markdown",
   "metadata": {},
   "source": [
    "\n",
    "<!-- INSERT SOURCE DOWNLOAD BUTTONS -->\n",
    "\n"
   ]
  }
 ],
 "metadata": {
  "display_name": "",
  "kernelspec": {
   "display_name": "conda_mxnet_p36",
   "language": "python",
   "name": "conda_mxnet_p36"
  },
  "language_info": {
   "codemirror_mode": {
    "name": "ipython",
    "version": 3
   },
   "file_extension": ".py",
   "mimetype": "text/x-python",
   "name": "python",
   "nbconvert_exporter": "python",
   "pygments_lexer": "ipython3",
   "version": "3.6.5"
  },
  "name": ""
 },
 "nbformat": 4,
 "nbformat_minor": 2
}
