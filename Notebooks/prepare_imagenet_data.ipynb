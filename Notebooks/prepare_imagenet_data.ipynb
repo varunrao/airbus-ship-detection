{
 "cells": [
  {
   "cell_type": "code",
   "execution_count": 1,
   "metadata": {},
   "outputs": [],
   "source": [
    "import mxnet as mx\n",
    "%matplotlib inline\n",
    "import os\n",
    "import sys\n",
    "import subprocess\n",
    "import numpy as np\n",
    "import matplotlib.pyplot as plt\n",
    "import tarfile\n",
    "import boto3\n",
    "import botocore\n",
    "\n",
    "import warnings\n",
    "warnings.filterwarnings(\"ignore\", category=DeprecationWarning)"
   ]
  },
  {
   "cell_type": "code",
   "execution_count": 2,
   "metadata": {},
   "outputs": [],
   "source": [
    "BUCKET_NAME = 'reinvent2018-builder-fair-recycle-arm-us-east-1'\n",
    "dataset = 'imagenet_expanded'\n",
    "project = 'imagenet_updated'\n",
    "\n",
    "train_folder = 'train'\n",
    "validation_folder = 'validation'\n",
    "\n",
    "data_path_list = ['/tmp/data/{}'.format(train_folder), '/tmp/data/{}'.format(validation_folder)]\n",
    "\n",
    "\n",
    "DATA_BUCKET_KEY = 'data/raw_data/{}'.format(dataset)\n",
    "IMAGENET_CATEGORIES = {\"bottle\" : \"n04557648\", \n",
    "                       \"coffee_cup\": \"n03216710\", \n",
    "#                        \"plastic_bag\" : \"n03958227\", \n",
    "                      \"soda_can\" : \"n04255586\",\n",
    "#                       \"cardboard\": \"n03871724\",\n",
    "#                       \"trash\": \"trash\",\n",
    "#                       \"plastic\": \"plastic\",\n",
    "#                       \"glass\": \"glass\"\n",
    "#                       \"wine_bottle\": \"n04591713\"\n",
    "                      \"aerosol_can\":\"n02682922\"\n",
    "                      }"
   ]
  },
  {
   "cell_type": "code",
   "execution_count": 3,
   "metadata": {},
   "outputs": [],
   "source": [
    "import shutil\n",
    "import os\n",
    "shutil.rmtree('/tmp/data/', ignore_errors=True, onerror=None)\n",
    "os.mkdir('/tmp/data/');"
   ]
  },
  {
   "cell_type": "code",
   "execution_count": 4,
   "metadata": {},
   "outputs": [
    {
     "name": "stdout",
     "output_type": "stream",
     "text": [
      "Downloading reinvent2018-builder-fair-recycle-arm-us-east-1/n04557648.tar\n",
      "Downloading reinvent2018-builder-fair-recycle-arm-us-east-1/n03216710.tar\n",
      "Downloading reinvent2018-builder-fair-recycle-arm-us-east-1/n04255586.tar\n",
      "Downloading reinvent2018-builder-fair-recycle-arm-us-east-1/n02682922.tar\n"
     ]
    }
   ],
   "source": [
    "s3 = boto3.resource('s3')\n",
    "\n",
    "for category_key, category_value in IMAGENET_CATEGORIES.items():\n",
    "    Key = \"{}/{}.tar\".format(DATA_BUCKET_KEY, category_value)\n",
    "    try:\n",
    "        print(\"Downloading {}/{}.tar\".format(BUCKET_NAME,category_value))\n",
    "        s3.Bucket(BUCKET_NAME).download_file(Key, '/tmp/data/{}.tar'.format(category_key))\n",
    "    except botocore.exceptions.ClientError as e:\n",
    "        if e.response['Error']['Code'] == \"404\":\n",
    "            print(\"The object does not exist.\")\n",
    "        else:\n",
    "            raise"
   ]
  },
  {
   "cell_type": "code",
   "execution_count": 5,
   "metadata": {},
   "outputs": [
    {
     "name": "stdout",
     "output_type": "stream",
     "text": [
      "coffee_cup.tar\n",
      "soda_can.tar\n",
      "bottle.tar\n",
      "aerosol_can.tar\n"
     ]
    }
   ],
   "source": [
    "for root, dirs, files in os.walk(\"/tmp/data/\"):  \n",
    "    for filename in files:\n",
    "        print(filename)"
   ]
  },
  {
   "cell_type": "code",
   "execution_count": 6,
   "metadata": {},
   "outputs": [
    {
     "name": "stdout",
     "output_type": "stream",
     "text": [
      "coffee_cup.tar\n",
      "soda_can.tar\n",
      "bottle.tar\n",
      "aerosol_can.tar\n"
     ]
    }
   ],
   "source": [
    "import tarfile\n",
    "for root, dirs, files in os.walk(\"/tmp/data/\"):  \n",
    "    for filename in files:\n",
    "        print(filename)\n",
    "        tar = tarfile.open(\"/tmp/data/{}\".format(filename))\n",
    "        tar.extractall(path='/tmp/data/{}/{}'.format(train_folder, filename.split(\".tar\")[0]))\n",
    "        tar.close()\n"
   ]
  },
  {
   "cell_type": "code",
   "execution_count": 7,
   "metadata": {},
   "outputs": [
    {
     "name": "stdout",
     "output_type": "stream",
     "text": [
      "Total file count 5085\n"
     ]
    }
   ],
   "source": [
    "#Create train and test data split\n",
    "import tarfile\n",
    "from shutil import copyfile\n",
    "file_count = 0;\n",
    "for category_key, category_value in IMAGENET_CATEGORIES.items():\n",
    "    for root, dirs, files in os.walk(\"/tmp/data/{}/{}\".format(train_folder, category_key)):\n",
    "        file_count = file_count + len(files)\n",
    "        i = 1\n",
    "        for filename in files:\n",
    "            #print(os.path.join(root, filename))\n",
    "            os.makedirs(\"/tmp/data/{}/{}\".format(validation_folder, category_key), exist_ok=True)\n",
    "            copyfile(os.path.join(root, filename), os.path.join(\"/tmp/data/{}/{}\"\\\n",
    "                                                                .format(validation_folder, category_key), filename))\n",
    "            i = i + 1\n",
    "            if i == 100:\n",
    "                break\n",
    "\n",
    "print(\"Total file count {}\".format(file_count))"
   ]
  },
  {
   "cell_type": "code",
   "execution_count": 8,
   "metadata": {},
   "outputs": [],
   "source": [
    "import os\n",
    "import glob\n",
    "\n",
    "files = glob.glob('/tmp/data/*.tar')\n",
    "for f in files:\n",
    "    os.remove(f)"
   ]
  },
  {
   "cell_type": "code",
   "execution_count": 9,
   "metadata": {},
   "outputs": [
    {
     "name": "stdout",
     "output_type": "stream",
     "text": [
      "/tmp/data/train\n",
      "['', 'tmp', 'data', 'train']\n",
      "/tmp/data/imagenet_train\n",
      "/tmp/data/validation\n",
      "['', 'tmp', 'data', 'validation']\n",
      "/tmp/data/imagenet_validation\n"
     ]
    }
   ],
   "source": [
    "#im2rec_path = mx.test_utils.get_im2rec_path()\n",
    "im2rec_path = \"/home/ec2-user/anaconda3/envs/mxnet_p36/lib/python3.6/site-packages/mxnet/tools/im2rec.py\"\n",
    "\n",
    "for data_path in data_path_list:\n",
    "    print (data_path)\n",
    "    data_path_split = data_path.split(\"/\")\n",
    "    print(data_path_split)\n",
    "    prefix_path = \"/\" + data_path_split[1] + \"/\" + data_path_split[2] + \"/\" + \"imagenet_\" + data_path_split[3]\n",
    "    print(prefix_path)\n",
    "    with open(os.devnull, 'wb') as devnull:\n",
    "        subprocess.check_call(['python', im2rec_path, '--list', '--recursive', prefix_path, data_path],\n",
    "                              stdout=devnull)\n",
    "\n",
    "    with open(os.devnull, 'wb') as devnull:\n",
    "        subprocess.check_call(['python', im2rec_path, '--num-thread=4', '--quality=100', '--resize=480', prefix_path, data_path],\n",
    "                              stdout=devnull)"
   ]
  },
  {
   "cell_type": "code",
   "execution_count": 10,
   "metadata": {},
   "outputs": [],
   "source": [
    "import boto3\n",
    "BUCKET_NAME = 'deeplens-image-classification-varunrao'\n",
    "\n",
    "s3 = boto3.resource('s3')\n",
    "\n",
    "try:\n",
    "    for data_path in data_path_list:\n",
    "        data_path_split = data_path.split(\"/\")\n",
    "        prefix_path = \"/\" + data_path_split[1] + \"/\" + data_path_split[2] + \"/\" + \"imagenet_\" + data_path_split[3]\n",
    "        s3.Bucket(BUCKET_NAME).upload_file('{}.rec'.format(prefix_path), '{}/{}'.format(project, data_path_split[3]) + \"/{}.rec\".format(\"imagenet_\" + data_path_split[3]))\n",
    "except botocore.exceptions.ClientError as e:\n",
    "    if e.response['Error']['Code'] == \"404\":\n",
    "        print(\"The object does not exist.\")\n",
    "    else:\n",
    "        raise"
   ]
  },
  {
   "cell_type": "code",
   "execution_count": null,
   "metadata": {},
   "outputs": [],
   "source": [
    "data_iter = mx.io.ImageRecordIter(\n",
    "    path_imgrec=os.path.join('/tmp','data','imagenet_validation.rec'),\n",
    "    data_shape=(3, 500, 500), # output data shape. An 227x227 region will be cropped from the original image.\n",
    "    batch_size=4, # number of samples per batch\n",
    "    resize=256 # resize the shorter edge to 256 before cropping\n",
    "    # ... you can add more augmentation options as defined in ImageRecordIter.\n",
    "    )\n",
    "data_iter.reset()\n",
    "batch = data_iter.next()\n",
    "data = batch.data[0]\n",
    "for i in range(4):\n",
    "    plt.subplot(1,4,i+1)\n",
    "    plt.imshow(data[i].asnumpy().astype(np.uint8).transpose((1,2,0)))\n",
    "plt.show()"
   ]
  },
  {
   "cell_type": "code",
   "execution_count": null,
   "metadata": {},
   "outputs": [],
   "source": [
    "# data_iter = mx.image.ImageIter(batch_size=4, data_shape=(3, 227, 227),\n",
    "#                               path_imgrec=os.path.join('/tmp','data','imagenet_validation.rec'),\n",
    "#                               path_imgidx=os.path.join('/tmp','data','imagenet_validation.idx') )\n",
    "# data_iter.reset()\n",
    "# batch = data_iter.next()\n",
    "# data = batch.data[0]\n",
    "# for i in range(4):\n",
    "#     plt.subplot(1,4,i+1)\n",
    "#     plt.imshow(data[i].asnumpy().astype(np.uint8).transpose((1,2,0)))\n",
    "# plt.show()"
   ]
  },
  {
   "cell_type": "code",
   "execution_count": null,
   "metadata": {},
   "outputs": [],
   "source": [
    "file_name = '/tmp/data/train/coffee_cup/n03216710_10011.JPEG'\n",
    "# test image\n",
    "from IPython.display import Image\n",
    "Image(file_name)"
   ]
  },
  {
   "cell_type": "code",
   "execution_count": null,
   "metadata": {},
   "outputs": [],
   "source": []
  }
 ],
 "metadata": {
  "kernelspec": {
   "display_name": "conda_mxnet_p36",
   "language": "python",
   "name": "conda_mxnet_p36"
  },
  "language_info": {
   "codemirror_mode": {
    "name": "ipython",
    "version": 3
   },
   "file_extension": ".py",
   "mimetype": "text/x-python",
   "name": "python",
   "nbconvert_exporter": "python",
   "pygments_lexer": "ipython3",
   "version": "3.6.5"
  }
 },
 "nbformat": 4,
 "nbformat_minor": 2
}
